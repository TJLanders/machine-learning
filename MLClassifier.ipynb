{
 "cells": [
  {
   "cell_type": "code",
   "execution_count": 1,
   "metadata": {
    "scrolled": true
   },
   "outputs": [
    {
     "name": "stdout",
     "output_type": "stream",
     "text": [
      "Requirement already satisfied: fsspec in c:\\users\\thorj\\anaconda3\\lib\\site-packages (0.8.3)\n",
      "Note: you may need to restart the kernel to use updated packages.\n"
     ]
    }
   ],
   "source": [
    "pip install fsspec"
   ]
  },
  {
   "cell_type": "code",
   "execution_count": 1,
   "metadata": {},
   "outputs": [],
   "source": [
    "# Import relevant modules and the full arxiv dataset\n",
    "import logging\n",
    "logger = logging.getLogger(\"spacy\")\n",
    "logger.setLevel(logging.ERROR)\n",
    "\n",
    "import dask.bag as db\n",
    "import json\n",
    "import pandas as pd\n",
    "import numpy as np\n",
    "\n",
    "# docs = db.read_text('arxiv-metadata-oai-snapshot.json').map(json.loads)"
   ]
  },
  {
   "cell_type": "code",
   "execution_count": 1,
   "metadata": {},
   "outputs": [
    {
     "ename": "NameError",
     "evalue": "name 'docs' is not defined",
     "output_type": "error",
     "traceback": [
      "\u001b[1;31m---------------------------------------------------------------------------\u001b[0m",
      "\u001b[1;31mNameError\u001b[0m                                 Traceback (most recent call last)",
      "\u001b[1;32m~\\AppData\\Local\\Temp/ipykernel_8012/1045922690.py\u001b[0m in \u001b[0;36m<module>\u001b[1;34m\u001b[0m\n\u001b[0;32m     11\u001b[0m \u001b[1;31m# filter for papers published on or after 2021-01-01\u001b[0m\u001b[1;33m\u001b[0m\u001b[1;33m\u001b[0m\u001b[0m\n\u001b[0;32m     12\u001b[0m \u001b[0mcolumns\u001b[0m \u001b[1;33m=\u001b[0m \u001b[1;33m[\u001b[0m\u001b[1;34m'id'\u001b[0m\u001b[1;33m,\u001b[0m\u001b[1;34m'category'\u001b[0m\u001b[1;33m,\u001b[0m\u001b[1;34m'abstract'\u001b[0m\u001b[1;33m]\u001b[0m\u001b[1;33m\u001b[0m\u001b[1;33m\u001b[0m\u001b[0m\n\u001b[1;32m---> 13\u001b[1;33m docs_df = (docs.filter(lambda x: int(get_latest_version(x).split(' ')[3]) > 2020)\n\u001b[0m\u001b[0;32m     14\u001b[0m            \u001b[1;33m.\u001b[0m\u001b[0mmap\u001b[0m\u001b[1;33m(\u001b[0m\u001b[0mtrim\u001b[0m\u001b[1;33m)\u001b[0m\u001b[1;33m.\u001b[0m\u001b[1;33m\u001b[0m\u001b[1;33m\u001b[0m\u001b[0m\n\u001b[0;32m     15\u001b[0m            compute())\n",
      "\u001b[1;31mNameError\u001b[0m: name 'docs' is not defined"
     ]
    }
   ],
   "source": [
    "# The dataset is very huge. Not sure if the whole set can be used. I start prototyping with a subset of the data so it's easier to handle:\n",
    "# This procedure was recommended in the ArXiv dataset itself\n",
    "\n",
    "get_latest_version = lambda x: x['versions'][-1]['created']\n",
    "\n",
    "\n",
    "# get only necessary fields of the metadata file\n",
    "trim = lambda x: {'title': x['title'],\n",
    "                  'category':x['categories'].split(' '),}\n",
    "\n",
    "# filter for papers published on or after 2021-01-01\n",
    "columns = ['id','category','abstract']\n",
    "docs_df = (docs.filter(lambda x: int(get_latest_version(x).split(' ')[3]) > 2020)\n",
    "           .map(trim).\n",
    "           compute())"
   ]
  },
  {
   "cell_type": "code",
   "execution_count": 38,
   "metadata": {},
   "outputs": [],
   "source": [
    "# Convert data to pandas DataFrame\n",
    "docs_df = pd.DataFrame(docs_df)"
   ]
  },
  {
   "cell_type": "code",
   "execution_count": 39,
   "metadata": {},
   "outputs": [],
   "source": [
    "# Write to csv for faster future access\n",
    "docs_df.to_csv(\"trimmed_arxiv_docs.csv\", index=False)"
   ]
  },
  {
   "cell_type": "code",
   "execution_count": 2,
   "metadata": {},
   "outputs": [],
   "source": [
    "# Read csv to retrieve data\n",
    "df = pd.read_csv(\"./trimmed_arxiv_docs.csv\")"
   ]
  },
  {
   "cell_type": "code",
   "execution_count": 32,
   "metadata": {
    "scrolled": true
   },
   "outputs": [
    {
     "name": "stdout",
     "output_type": "stream",
     "text": [
      "There have been 37088 papers in Machine learning since 2021\n"
     ]
    }
   ],
   "source": [
    "# Find out the number of ml papers in this dataset\n",
    "n = 0\n",
    "for i in range(0, len(df['category'])):\n",
    "    if 'cs.LG' in df['category'][i]:\n",
    "        n += 1\n",
    "print('There have been', n, 'papers in Machine learning since 2021')"
   ]
  },
  {
   "cell_type": "code",
   "execution_count": 381,
   "metadata": {},
   "outputs": [
    {
     "data": {
      "text/html": [
       "<div>\n",
       "<style scoped>\n",
       "    .dataframe tbody tr th:only-of-type {\n",
       "        vertical-align: middle;\n",
       "    }\n",
       "\n",
       "    .dataframe tbody tr th {\n",
       "        vertical-align: top;\n",
       "    }\n",
       "\n",
       "    .dataframe thead th {\n",
       "        text-align: right;\n",
       "    }\n",
       "</style>\n",
       "<table border=\"1\" class=\"dataframe\">\n",
       "  <thead>\n",
       "    <tr style=\"text-align: right;\">\n",
       "      <th></th>\n",
       "      <th>title</th>\n",
       "      <th>label</th>\n",
       "    </tr>\n",
       "  </thead>\n",
       "  <tbody>\n",
       "    <tr>\n",
       "      <th>74171</th>\n",
       "      <td>Universality of empirical risk minimization</td>\n",
       "      <td>1</td>\n",
       "    </tr>\n",
       "    <tr>\n",
       "      <th>74172</th>\n",
       "      <td>The Exact Class of Graph Functions Generated b...</td>\n",
       "      <td>1</td>\n",
       "    </tr>\n",
       "    <tr>\n",
       "      <th>74173</th>\n",
       "      <td>General Cyclical Training of Neural Networks</td>\n",
       "      <td>1</td>\n",
       "    </tr>\n",
       "    <tr>\n",
       "      <th>74174</th>\n",
       "      <td>Data-SUITE: Data-centric identification of in-...</td>\n",
       "      <td>1</td>\n",
       "    </tr>\n",
       "    <tr>\n",
       "      <th>74175</th>\n",
       "      <td>Adiabatic Quantum Computing for Multi Object T...</td>\n",
       "      <td>1</td>\n",
       "    </tr>\n",
       "  </tbody>\n",
       "</table>\n",
       "</div>"
      ],
      "text/plain": [
       "                                                   title  label\n",
       "74171        Universality of empirical risk minimization      1\n",
       "74172  The Exact Class of Graph Functions Generated b...      1\n",
       "74173       General Cyclical Training of Neural Networks      1\n",
       "74174  Data-SUITE: Data-centric identification of in-...      1\n",
       "74175  Adiabatic Quantum Computing for Multi Object T...      1"
      ]
     },
     "execution_count": 381,
     "metadata": {},
     "output_type": "execute_result"
    }
   ],
   "source": [
    "# Create new dataset which contains same number of ml and non ml papers which will be used for training\n",
    "titles = []\n",
    "ml_identity = []\n",
    "n = 0\n",
    "for i in range(0, len(df['category'])):   \n",
    "    if 'cs.LG' in df['category'][i]:\n",
    "        titles.append(df['title'][i])\n",
    "        ml_identity.append(1)\n",
    "    elif n < 37088:\n",
    "        titles.append(df['title'][i])\n",
    "        ml_identity.append(0)\n",
    "        n += 1       \n",
    "\n",
    "dataset = pd.DataFrame({'title': titles, 'label': ml_identity}, columns=['title', 'label'])\n",
    "dataset.tail()\n",
    "#print('For example' , titles[0], 'is an ml paper' if ml_identity[0]==1 else 'is not an ml paper')  "
   ]
  },
  {
   "cell_type": "code",
   "execution_count": 151,
   "metadata": {},
   "outputs": [],
   "source": [
    "# Shuffle the dataset then create a test and training dataset\n",
    "shuffled_data = dataset.sample(frac = 1)\n",
    "traindata = shuffled_data.iloc[:37088,:]\n",
    "testdata = shuffled_data.iloc[37088:,:]\n",
    "\n",
    "titlestrain = traindata.loc[:,'title']\n",
    "labelstrain = traindata.loc[:,'label']\n",
    "titlestest = testdata.loc[:,'title']\n",
    "labelstest = testdata.loc[:,'label']"
   ]
  },
  {
   "cell_type": "code",
   "execution_count": 188,
   "metadata": {},
   "outputs": [],
   "source": [
    "# Import tokenizer and calibrate on our data\n",
    "\n",
    "from tensorflow.keras.preprocessing.text import Tokenizer\n",
    "from tensorflow.keras.preprocessing.sequence import pad_sequences\n",
    "\n",
    "tokenizer = Tokenizer(num_words=10000, oov_token='<UNK>')\n",
    "tokenizer.fit_on_texts(dataset['title'])"
   ]
  },
  {
   "cell_type": "code",
   "execution_count": 189,
   "metadata": {},
   "outputs": [],
   "source": [
    "# Make every tokenized sequence the same length \n",
    "\n",
    "maxlen=50\n",
    "\n",
    "def get_sequences(tokenizer, titles):\n",
    "    \n",
    "    sequences = tokenizer.texts_to_sequences(titles)\n",
    "    padded = pad_sequences(sequences, truncating = 'post', padding='post', maxlen=maxlen)\n",
    "    \n",
    "    return padded"
   ]
  },
  {
   "cell_type": "code",
   "execution_count": 191,
   "metadata": {},
   "outputs": [
    {
     "data": {
      "text/plain": [
       "array([  67,  158,   81,  313,    4,  272, 1759,   20,  139,   65,   62,\n",
       "          0,    0,    0,    0,    0,    0,    0,    0,    0,    0,    0,\n",
       "          0,    0,    0,    0,    0,    0,    0,    0,    0,    0,    0,\n",
       "          0,    0,    0,    0,    0,    0,    0,    0,    0,    0,    0,\n",
       "          0,    0,    0,    0,    0,    0])"
      ]
     },
     "execution_count": 191,
     "metadata": {},
     "output_type": "execute_result"
    }
   ],
   "source": [
    "# Can see the numerical form of a title now extended to length 50\n",
    "padded_titlestrain = get_sequences(tokenizer, titlestrain)\n",
    "padded_titlestrain[0]"
   ]
  },
  {
   "cell_type": "code",
   "execution_count": 428,
   "metadata": {},
   "outputs": [],
   "source": [
    "# Define  the classes of the classifier, for now it is just ML or not: 1 and 0\n",
    "\n",
    "classes = ('Other', 'Machine Learning')\n",
    "class_to_index = dict((c,i) for i, c in enumerate(classes))\n",
    "index_to_class = dict((v,k) for k, v in class_to_index.items())"
   ]
  },
  {
   "cell_type": "code",
   "execution_count": 201,
   "metadata": {},
   "outputs": [
    {
     "name": "stdout",
     "output_type": "stream",
     "text": [
      "Model: \"sequential\"\n",
      "_________________________________________________________________\n",
      "Layer (type)                 Output Shape              Param #   \n",
      "=================================================================\n",
      "embedding (Embedding)        (None, 50, 16)            160000    \n",
      "_________________________________________________________________\n",
      "global_average_pooling1d (Gl (None, 16)                0         \n",
      "_________________________________________________________________\n",
      "dense (Dense)                (None, 16)                272       \n",
      "_________________________________________________________________\n",
      "dense_1 (Dense)              (None, 1)                 17        \n",
      "=================================================================\n",
      "Total params: 160,289\n",
      "Trainable params: 160,289\n",
      "Non-trainable params: 0\n",
      "_________________________________________________________________\n"
     ]
    }
   ],
   "source": [
    "# Create model\n",
    "import tensorflow as tf\n",
    "\n",
    "model = tf.keras.Sequential([\n",
    "\n",
    "tf.keras.layers.Embedding(10000,16,input_length=maxlen),\n",
    "tf.keras.layers.GlobalAveragePooling1D(),\n",
    "tf.keras.layers.Dense(16, activation='relu'),\n",
    "tf.keras.layers.Dense(1),\n",
    "    \n",
    "])\n",
    "\n",
    "model.summary()"
   ]
  },
  {
   "cell_type": "code",
   "execution_count": 207,
   "metadata": {},
   "outputs": [
    {
     "name": "stdout",
     "output_type": "stream",
     "text": [
      "Epoch 1/40\n",
      "53/53 [==============================] - 1s 5ms/step - loss: 0.6904 - accuracy: 0.5738 - val_loss: 0.6859 - val_accuracy: 0.8075\n",
      "Epoch 2/40\n",
      "53/53 [==============================] - 0s 3ms/step - loss: 0.6741 - accuracy: 0.7875 - val_loss: 0.6579 - val_accuracy: 0.7698\n",
      "Epoch 3/40\n",
      "53/53 [==============================] - 0s 3ms/step - loss: 0.6263 - accuracy: 0.8198 - val_loss: 0.5941 - val_accuracy: 0.8217\n",
      "Epoch 4/40\n",
      "53/53 [==============================] - 0s 3ms/step - loss: 0.5451 - accuracy: 0.8394 - val_loss: 0.5097 - val_accuracy: 0.8373\n",
      "Epoch 5/40\n",
      "53/53 [==============================] - 0s 3ms/step - loss: 0.4609 - accuracy: 0.8494 - val_loss: 0.4413 - val_accuracy: 0.8434\n",
      "Epoch 6/40\n",
      "53/53 [==============================] - 0s 3ms/step - loss: 0.4005 - accuracy: 0.8565 - val_loss: 0.3991 - val_accuracy: 0.8476\n",
      "Epoch 7/40\n",
      "53/53 [==============================] - 0s 3ms/step - loss: 0.3605 - accuracy: 0.8674 - val_loss: 0.3724 - val_accuracy: 0.8529\n",
      "Epoch 8/40\n",
      "53/53 [==============================] - 0s 3ms/step - loss: 0.3339 - accuracy: 0.8740 - val_loss: 0.3556 - val_accuracy: 0.8579\n",
      "Epoch 9/40\n",
      "53/53 [==============================] - 0s 3ms/step - loss: 0.3144 - accuracy: 0.8812 - val_loss: 0.3452 - val_accuracy: 0.8637\n",
      "Epoch 10/40\n",
      "53/53 [==============================] - 0s 3ms/step - loss: 0.2996 - accuracy: 0.8855 - val_loss: 0.3380 - val_accuracy: 0.8659\n",
      "Epoch 11/40\n",
      "53/53 [==============================] - 0s 3ms/step - loss: 0.2873 - accuracy: 0.8899 - val_loss: 0.3326 - val_accuracy: 0.8663\n",
      "Epoch 12/40\n",
      "53/53 [==============================] - 0s 3ms/step - loss: 0.2776 - accuracy: 0.8933 - val_loss: 0.3302 - val_accuracy: 0.8683\n",
      "Epoch 13/40\n",
      "53/53 [==============================] - 0s 3ms/step - loss: 0.2690 - accuracy: 0.8966 - val_loss: 0.3276 - val_accuracy: 0.8679\n",
      "Epoch 14/40\n",
      "53/53 [==============================] - 0s 3ms/step - loss: 0.2613 - accuracy: 0.9000 - val_loss: 0.3268 - val_accuracy: 0.8675\n",
      "Epoch 15/40\n",
      "53/53 [==============================] - 0s 3ms/step - loss: 0.2546 - accuracy: 0.9024 - val_loss: 0.3272 - val_accuracy: 0.8656\n",
      "Epoch 16/40\n",
      "53/53 [==============================] - 0s 3ms/step - loss: 0.2489 - accuracy: 0.9046 - val_loss: 0.3274 - val_accuracy: 0.8654\n",
      "Epoch 17/40\n",
      "53/53 [==============================] - 0s 3ms/step - loss: 0.2434 - accuracy: 0.9063 - val_loss: 0.3292 - val_accuracy: 0.8636\n",
      "Epoch 18/40\n",
      "53/53 [==============================] - 0s 3ms/step - loss: 0.2383 - accuracy: 0.9090 - val_loss: 0.3286 - val_accuracy: 0.8674\n",
      "Epoch 19/40\n",
      "53/53 [==============================] - 0s 3ms/step - loss: 0.2342 - accuracy: 0.9105 - val_loss: 0.3297 - val_accuracy: 0.8663\n",
      "Epoch 20/40\n",
      "53/53 [==============================] - 0s 3ms/step - loss: 0.2290 - accuracy: 0.9133 - val_loss: 0.3335 - val_accuracy: 0.8684\n",
      "Epoch 21/40\n",
      "53/53 [==============================] - 0s 3ms/step - loss: 0.2253 - accuracy: 0.9146 - val_loss: 0.3336 - val_accuracy: 0.8652\n",
      "Epoch 22/40\n",
      "53/53 [==============================] - 0s 3ms/step - loss: 0.2211 - accuracy: 0.9162 - val_loss: 0.3356 - val_accuracy: 0.8644\n",
      "Epoch 23/40\n",
      "53/53 [==============================] - 0s 3ms/step - loss: 0.2172 - accuracy: 0.9179 - val_loss: 0.3376 - val_accuracy: 0.8630\n",
      "Epoch 24/40\n",
      "53/53 [==============================] - 0s 3ms/step - loss: 0.2136 - accuracy: 0.9186 - val_loss: 0.3408 - val_accuracy: 0.8633\n",
      "Epoch 25/40\n",
      "53/53 [==============================] - 0s 3ms/step - loss: 0.2113 - accuracy: 0.9209 - val_loss: 0.3427 - val_accuracy: 0.8614\n",
      "Epoch 26/40\n",
      "53/53 [==============================] - 0s 3ms/step - loss: 0.2070 - accuracy: 0.9231 - val_loss: 0.3450 - val_accuracy: 0.8615\n",
      "Epoch 27/40\n",
      "53/53 [==============================] - 0s 3ms/step - loss: 0.2039 - accuracy: 0.9242 - val_loss: 0.3482 - val_accuracy: 0.8606\n",
      "Epoch 28/40\n",
      "53/53 [==============================] - 0s 3ms/step - loss: 0.2010 - accuracy: 0.9263 - val_loss: 0.3587 - val_accuracy: 0.8550\n",
      "Epoch 29/40\n",
      "53/53 [==============================] - 0s 3ms/step - loss: 0.1995 - accuracy: 0.9251 - val_loss: 0.3548 - val_accuracy: 0.8587\n",
      "Epoch 30/40\n",
      "53/53 [==============================] - 0s 3ms/step - loss: 0.1957 - accuracy: 0.9270 - val_loss: 0.3567 - val_accuracy: 0.8595\n",
      "Epoch 31/40\n",
      "53/53 [==============================] - 0s 3ms/step - loss: 0.1935 - accuracy: 0.9277 - val_loss: 0.3598 - val_accuracy: 0.8587\n",
      "Epoch 32/40\n",
      "53/53 [==============================] - 0s 3ms/step - loss: 0.1914 - accuracy: 0.9286 - val_loss: 0.3629 - val_accuracy: 0.8576\n",
      "Epoch 33/40\n",
      "53/53 [==============================] - 0s 3ms/step - loss: 0.1883 - accuracy: 0.9308 - val_loss: 0.3664 - val_accuracy: 0.8562\n",
      "Epoch 34/40\n",
      "53/53 [==============================] - 0s 3ms/step - loss: 0.1862 - accuracy: 0.9313 - val_loss: 0.3700 - val_accuracy: 0.8558\n",
      "Epoch 35/40\n",
      "53/53 [==============================] - 0s 3ms/step - loss: 0.1841 - accuracy: 0.9323 - val_loss: 0.3737 - val_accuracy: 0.8553\n",
      "Epoch 36/40\n",
      "53/53 [==============================] - 0s 3ms/step - loss: 0.1817 - accuracy: 0.9337 - val_loss: 0.3772 - val_accuracy: 0.8536\n",
      "Epoch 37/40\n",
      "53/53 [==============================] - 0s 3ms/step - loss: 0.1800 - accuracy: 0.9338 - val_loss: 0.3824 - val_accuracy: 0.8522\n",
      "Epoch 38/40\n",
      "53/53 [==============================] - 0s 3ms/step - loss: 0.1782 - accuracy: 0.9341 - val_loss: 0.3857 - val_accuracy: 0.8518\n",
      "Epoch 39/40\n",
      "53/53 [==============================] - 0s 3ms/step - loss: 0.1761 - accuracy: 0.9350 - val_loss: 0.3898 - val_accuracy: 0.8512\n",
      "Epoch 40/40\n",
      "53/53 [==============================] - 0s 3ms/step - loss: 0.1748 - accuracy: 0.9358 - val_loss: 0.3943 - val_accuracy: 0.8494\n"
     ]
    }
   ],
   "source": [
    "# Compile model and train\n",
    "model.compile(optimizer='adam',\n",
    "              loss=tf.losses.BinaryCrossentropy(from_logits=True),\n",
    "              metrics=[tf.metrics.BinaryAccuracy(threshold=0.0, name='accuracy')])\n",
    "\n",
    "# Create a validation data set from the training data set to test the model at each step\n",
    "valtitles = padded_titlestrain[:10000]\n",
    "partial_titlestrain = padded_titlestrain[10000:]\n",
    "\n",
    "vallabels = labelstrain[:10000]\n",
    "partial_labelstrain = labelstrain[10000:]\n",
    "\n",
    "history = model.fit(partial_titlestrain,\n",
    "                    partial_labelstrain,\n",
    "                    epochs=40,\n",
    "                    batch_size=512,\n",
    "                    validation_data=(valtitles, vallabels),\n",
    "                    verbose=1)"
   ]
  },
  {
   "cell_type": "code",
   "execution_count": 212,
   "metadata": {},
   "outputs": [
    {
     "data": {
      "image/png": "[encoded data removed]",
      "text/plain": [
       "<Figure size 432x288 with 1 Axes>"
      ]
     },
     "metadata": {
      "needs_background": "light"
     },
     "output_type": "display_data"
    }
   ],
   "source": [
    "# Plot the training and validation accuracy over the range of epochs\n",
    "import matplotlib.pyplot as plt\n",
    "\n",
    "history_dict = history.history\n",
    "history_dict.keys()\n",
    "\n",
    "acc = history_dict['accuracy']\n",
    "val_acc = history_dict['val_accuracy']\n",
    "loss = history_dict['loss']\n",
    "val_loss = history_dict['val_loss']\n",
    "\n",
    "epochs = range(1, len(acc) + 1)\n",
    "\n",
    "plt.plot(epochs, acc, 'bo', label='Training acc')\n",
    "plt.plot(epochs, val_acc, 'b', label='Validation acc')\n",
    "plt.title('Training and validation accuracy')\n",
    "plt.xlabel('Epochs')\n",
    "plt.ylabel('Accuracy')\n",
    "plt.legend()\n",
    "\n",
    "plt.show()"
   ]
  },
  {
   "cell_type": "markdown",
   "metadata": {},
   "source": [
    "Trend due to overfitting, tweak hyperparameters"
   ]
  },
  {
   "cell_type": "code",
   "execution_count": 208,
   "metadata": {},
   "outputs": [
    {
     "name": "stdout",
     "output_type": "stream",
     "text": [
      "1159/1159 [==============================] - 1s 595us/step - loss: 0.3879 - accuracy: 0.8519\n"
     ]
    }
   ],
   "source": [
    "# Test the model on our test dataset\n",
    "padded_titlestest = get_sequences(tokenizer, titlestest)\n",
    "\n",
    "results = model.evaluate(padded_titlestest, labelstest)"
   ]
  },
  {
   "cell_type": "markdown",
   "metadata": {},
   "source": [
    "As you can see we achieve an accuracy of 85% using a very simple approach to Natural Language Processing. More advanced approaches (Bidirectional layers, etc.) would easily achieve accuracies into the 90's."
   ]
  },
  {
   "cell_type": "code",
   "execution_count": 538,
   "metadata": {
    "scrolled": true
   },
   "outputs": [
    {
     "name": "stdout",
     "output_type": "stream",
     "text": [
      "Title: Label Contrastive Coding based Graph Neural Network for Graph\n",
      "  Classification\n",
      "Category: Machine Learning\n",
      "Predicted Category:  Machine Learning\n"
     ]
    }
   ],
   "source": [
    "# For fun, test the classifier on a specific title to see if it gets it right\n",
    "\n",
    "i = np.random.randint(0,len(labelstest)-1)\n",
    "print('Title:', titlestest.iloc[i])\n",
    "print('Category:', index_to_class[labelstest.iloc[i]])\n",
    "# print(padded_titlestest[i])\n",
    "p = model.predict(np.expand_dims(padded_titlestest[i], axis=0))\n",
    "if p > 0.5:\n",
    "    p = 1\n",
    "else:\n",
    "    p = 0\n",
    "pred_class=index_to_class[p]\n",
    "print('Predicted Category: ', pred_class)"
   ]
  },
  {
   "cell_type": "markdown",
   "metadata": {},
   "source": [
    "An network like this could potentially allow a better analysis of the data involved in the application of machine learning to the physical sciences, as it removes the dependence on third parties to classify the data. Also look at weighting the algorithm.\n",
    "\n",
    "Sources:\n",
    "https://medium.com/geekculture/nlp-with-tensorflow-keras-explanation-and-tutorial-cae3554b1290\n",
    "https://www.tensorflow.org/hub/tutorials/tf2_text_classification\n",
    "https://towardsdatascience.com/natural-language-processing-with-tensorflow-e0a701ef5cef\n",
    "https://www.kaggle.com/onyonixch/scientific-paper-clustering"
   ]
  }
 ],
 "metadata": {
  "kernelspec": {
   "display_name": "Python 3",
   "language": "python",
   "name": "python3"
  },
  "language_info": {
   "codemirror_mode": {
    "name": "ipython",
    "version": 3
   },
   "file_extension": ".py",
   "mimetype": "text/x-python",
   "name": "python",
   "nbconvert_exporter": "python",
   "pygments_lexer": "ipython3",
   "version": "3.8.5"
  }
 },
 "nbformat": 4,
 "nbformat_minor": 4
}
